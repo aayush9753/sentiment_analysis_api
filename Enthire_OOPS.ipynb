{
 "cells": [
  {
   "cell_type": "code",
   "execution_count": 1,
   "id": "50959a15",
   "metadata": {
    "scrolled": true
   },
   "outputs": [
    {
     "name": "stderr",
     "output_type": "stream",
     "text": [
      "[nltk_data] Downloading package stopwords to\n",
      "[nltk_data]     C:\\Users\\ASUS\\AppData\\Roaming\\nltk_data...\n",
      "[nltk_data]   Package stopwords is already up-to-date!\n"
     ]
    }
   ],
   "source": [
    "from dataset import DataTraining\n",
    "from training import Training\n",
    "from inference import predict\n",
    "from train_configs import config as train_config"
   ]
  },
  {
   "cell_type": "code",
   "execution_count": 2,
   "id": "32f4a57e",
   "metadata": {},
   "outputs": [],
   "source": [
    "X_train, X_val, y_train, y_val = DataTraining().get_splitted_token_vectors(train_config)  # create train and validation datasets"
   ]
  },
  {
   "cell_type": "code",
   "execution_count": 3,
   "id": "6368a76b",
   "metadata": {},
   "outputs": [
    {
     "data": {
      "text/plain": [
       "((3780, 25), (946, 25))"
      ]
     },
     "execution_count": 3,
     "metadata": {},
     "output_type": "execute_result"
    }
   ],
   "source": [
    "X_train.shape, X_val.shape"
   ]
  },
  {
   "cell_type": "code",
   "execution_count": 5,
   "id": "2c1ac04c",
   "metadata": {},
   "outputs": [
    {
     "name": "stdout",
     "output_type": "stream",
     "text": [
      "1890 1890\n",
      "473 473\n"
     ]
    }
   ],
   "source": [
    "print(sum(y_train == 0), sum(y_train == 1))\n",
    "print(sum(y_val == 0), sum(y_val == 1))"
   ]
  },
  {
   "cell_type": "code",
   "execution_count": 6,
   "id": "ad8bae52",
   "metadata": {
    "scrolled": true
   },
   "outputs": [
    {
     "data": {
      "application/vnd.jupyter.widget-view+json": {
       "model_id": "860e6afbf40d47669df7d43202d525a2",
       "version_major": 2,
       "version_minor": 0
      },
      "text/plain": [
       "Epoch: 1:   0%|          | 0/1 [00:00<?, ?it/s]"
      ]
     },
     "metadata": {},
     "output_type": "display_data"
    },
    {
     "name": "stdout",
     "output_type": "stream",
     "text": [
      "Batch : 0/1   Loss : 0.7498894929885864   Accuracy : 0.47486773133277893   F1 Score : 0.5580048986862615\n",
      "Validation F1 Score : 0.6666666666666666\n",
      "#End of Epoch: 1  |  Train Loss: 0.750  |  Val Loss: 0.698  |  Train Acc: 47.49%  |  Val Acc: 50.00%\n"
     ]
    },
    {
     "data": {
      "application/vnd.jupyter.widget-view+json": {
       "model_id": "5bb3d904c3374ba2866fe1e7cc4be812",
       "version_major": 2,
       "version_minor": 0
      },
      "text/plain": [
       "Epoch: 2:   0%|          | 0/1 [00:00<?, ?it/s]"
      ]
     },
     "metadata": {},
     "output_type": "display_data"
    },
    {
     "name": "stdout",
     "output_type": "stream",
     "text": [
      "Batch : 0/1   Loss : 0.675419807434082   Accuracy : 0.5640211701393127   F1 Score : 0.6296629213483146\n",
      "Validation F1 Score : 0.6666666666666666\n",
      "#End of Epoch: 2  |  Train Loss: 0.675  |  Val Loss: 0.697  |  Train Acc: 56.40%  |  Val Acc: 50.00%\n"
     ]
    },
    {
     "data": {
      "application/vnd.jupyter.widget-view+json": {
       "model_id": "bb5fc6d9b87b47abb50b1ad749fcfb50",
       "version_major": 2,
       "version_minor": 0
      },
      "text/plain": [
       "Epoch: 3:   0%|          | 0/1 [00:00<?, ?it/s]"
      ]
     },
     "metadata": {},
     "output_type": "display_data"
    },
    {
     "name": "stdout",
     "output_type": "stream",
     "text": [
      "Batch : 0/1   Loss : 0.6629648804664612   Accuracy : 0.5944444537162781   F1 Score : 0.6400563512561634\n",
      "Validation F1 Score : 0.6666666666666666\n",
      "#End of Epoch: 3  |  Train Loss: 0.663  |  Val Loss: 0.696  |  Train Acc: 59.44%  |  Val Acc: 50.00%\n"
     ]
    },
    {
     "data": {
      "application/vnd.jupyter.widget-view+json": {
       "model_id": "4e9a85edc8184da69fad8178f6dab776",
       "version_major": 2,
       "version_minor": 0
      },
      "text/plain": [
       "Epoch: 4:   0%|          | 0/1 [00:00<?, ?it/s]"
      ]
     },
     "metadata": {},
     "output_type": "display_data"
    },
    {
     "name": "stdout",
     "output_type": "stream",
     "text": [
      "Batch : 0/1   Loss : 0.6458061337471008   Accuracy : 0.6074073910713196   F1 Score : 0.6441247002398081\n",
      "Validation F1 Score : 0.6666666666666666\n",
      "#End of Epoch: 4  |  Train Loss: 0.646  |  Val Loss: 0.696  |  Train Acc: 60.74%  |  Val Acc: 50.00%\n"
     ]
    },
    {
     "data": {
      "application/vnd.jupyter.widget-view+json": {
       "model_id": "b5cd55cc59ff487eb571b244241b8d8b",
       "version_major": 2,
       "version_minor": 0
      },
      "text/plain": [
       "Epoch: 5:   0%|          | 0/1 [00:00<?, ?it/s]"
      ]
     },
     "metadata": {},
     "output_type": "display_data"
    },
    {
     "name": "stdout",
     "output_type": "stream",
     "text": [
      "Batch : 0/1   Loss : 0.6337213516235352   Accuracy : 0.6349206566810608   F1 Score : 0.6600985221674875\n",
      "Validation F1 Score : 0.6666666666666666\n",
      "#End of Epoch: 5  |  Train Loss: 0.634  |  Val Loss: 0.696  |  Train Acc: 63.49%  |  Val Acc: 50.00%\n"
     ]
    },
    {
     "data": {
      "application/vnd.jupyter.widget-view+json": {
       "model_id": "127c8a1e84534d2ca1361d905bc684db",
       "version_major": 2,
       "version_minor": 0
      },
      "text/plain": [
       "Epoch: 6:   0%|          | 0/1 [00:00<?, ?it/s]"
      ]
     },
     "metadata": {},
     "output_type": "display_data"
    },
    {
     "name": "stdout",
     "output_type": "stream",
     "text": [
      "Batch : 0/1   Loss : 0.6098749041557312   Accuracy : 0.6642857193946838   F1 Score : 0.681555834378921\n",
      "Validation F1 Score : 0.6666666666666666\n",
      "#End of Epoch: 6  |  Train Loss: 0.610  |  Val Loss: 0.695  |  Train Acc: 66.43%  |  Val Acc: 50.00%\n"
     ]
    },
    {
     "data": {
      "application/vnd.jupyter.widget-view+json": {
       "model_id": "2a38ad9ba0504cc298998dcc097dd017",
       "version_major": 2,
       "version_minor": 0
      },
      "text/plain": [
       "Epoch: 7:   0%|          | 0/1 [00:00<?, ?it/s]"
      ]
     },
     "metadata": {},
     "output_type": "display_data"
    },
    {
     "name": "stdout",
     "output_type": "stream",
     "text": [
      "Batch : 0/1   Loss : 0.5880275964736938   Accuracy : 0.694179892539978   F1 Score : 0.7124378109452736\n",
      "Validation F1 Score : 0.6666666666666666\n",
      "#End of Epoch: 7  |  Train Loss: 0.588  |  Val Loss: 0.694  |  Train Acc: 69.42%  |  Val Acc: 50.00%\n"
     ]
    },
    {
     "data": {
      "application/vnd.jupyter.widget-view+json": {
       "model_id": "c9a608991b864a5b97e355e4435418a3",
       "version_major": 2,
       "version_minor": 0
      },
      "text/plain": [
       "Epoch: 8:   0%|          | 0/1 [00:00<?, ?it/s]"
      ]
     },
     "metadata": {},
     "output_type": "display_data"
    },
    {
     "name": "stdout",
     "output_type": "stream",
     "text": [
      "Batch : 0/1   Loss : 0.5574132204055786   Accuracy : 0.7280423045158386   F1 Score : 0.7464232856438087\n",
      "Validation F1 Score : 0.6666666666666666\n",
      "#End of Epoch: 8  |  Train Loss: 0.557  |  Val Loss: 0.692  |  Train Acc: 72.80%  |  Val Acc: 50.00%\n"
     ]
    },
    {
     "data": {
      "application/vnd.jupyter.widget-view+json": {
       "model_id": "1c615eb3bfb5459b8c339c3022707e0f",
       "version_major": 2,
       "version_minor": 0
      },
      "text/plain": [
       "Epoch: 9:   0%|          | 0/1 [00:00<?, ?it/s]"
      ]
     },
     "metadata": {},
     "output_type": "display_data"
    },
    {
     "name": "stdout",
     "output_type": "stream",
     "text": [
      "Batch : 0/1   Loss : 0.5312446355819702   Accuracy : 0.7595238089561462   F1 Score : 0.7741614906832298\n",
      "Validation F1 Score : 0.6666666666666666\n",
      "#End of Epoch: 9  |  Train Loss: 0.531  |  Val Loss: 0.690  |  Train Acc: 75.95%  |  Val Acc: 50.00%\n"
     ]
    },
    {
     "data": {
      "application/vnd.jupyter.widget-view+json": {
       "model_id": "462e519e6b904bffbf306dd5731a113c",
       "version_major": 2,
       "version_minor": 0
      },
      "text/plain": [
       "Epoch: 10:   0%|          | 0/1 [00:00<?, ?it/s]"
      ]
     },
     "metadata": {},
     "output_type": "display_data"
    },
    {
     "name": "stdout",
     "output_type": "stream",
     "text": [
      "Batch : 0/1   Loss : 0.5038272738456726   Accuracy : 0.7931216955184937   F1 Score : 0.8009164969450102\n",
      "Validation F1 Score : 0.6666666666666666\n",
      "#End of Epoch: 10  |  Train Loss: 0.504  |  Val Loss: 0.687  |  Train Acc: 79.31%  |  Val Acc: 50.00%\n"
     ]
    },
    {
     "data": {
      "application/vnd.jupyter.widget-view+json": {
       "model_id": "a68e2776c66d400091e8f81637e47453",
       "version_major": 2,
       "version_minor": 0
      },
      "text/plain": [
       "Epoch: 11:   0%|          | 0/1 [00:00<?, ?it/s]"
      ]
     },
     "metadata": {},
     "output_type": "display_data"
    },
    {
     "name": "stdout",
     "output_type": "stream",
     "text": [
      "Batch : 0/1   Loss : 0.48516201972961426   Accuracy : 0.8156084418296814   F1 Score : 0.8195702821641211\n",
      "Validation F1 Score : 0.6666666666666666\n",
      "#End of Epoch: 11  |  Train Loss: 0.485  |  Val Loss: 0.684  |  Train Acc: 81.56%  |  Val Acc: 50.00%\n"
     ]
    },
    {
     "data": {
      "application/vnd.jupyter.widget-view+json": {
       "model_id": "eec09024d36e4ecd94a2e0aa2acfeb33",
       "version_major": 2,
       "version_minor": 0
      },
      "text/plain": [
       "Epoch: 12:   0%|          | 0/1 [00:00<?, ?it/s]"
      ]
     },
     "metadata": {},
     "output_type": "display_data"
    },
    {
     "name": "stdout",
     "output_type": "stream",
     "text": [
      "Batch : 0/1   Loss : 0.46430495381355286   Accuracy : 0.8415343761444092   F1 Score : 0.8427408768705698\n",
      "Validation F1 Score : 0.6795977011494252\n",
      "#End of Epoch: 12  |  Train Loss: 0.464  |  Val Loss: 0.679  |  Train Acc: 84.15%  |  Val Acc: 52.85%\n"
     ]
    },
    {
     "data": {
      "application/vnd.jupyter.widget-view+json": {
       "model_id": "1ba9676eeb7641e3b8cccd836fc68cfd",
       "version_major": 2,
       "version_minor": 0
      },
      "text/plain": [
       "Epoch: 13:   0%|          | 0/1 [00:00<?, ?it/s]"
      ]
     },
     "metadata": {},
     "output_type": "display_data"
    },
    {
     "name": "stdout",
     "output_type": "stream",
     "text": [
      "Batch : 0/1   Loss : 0.45543310046195984   Accuracy : 0.8452380895614624   F1 Score : 0.845197142101085\n",
      "Validation F1 Score : 0.7356687898089171\n",
      "#End of Epoch: 13  |  Train Loss: 0.455  |  Val Loss: 0.674  |  Train Acc: 84.52%  |  Val Acc: 64.90%\n"
     ]
    },
    {
     "data": {
      "application/vnd.jupyter.widget-view+json": {
       "model_id": "67e110c212c84b26b1556d8dad90a69d",
       "version_major": 2,
       "version_minor": 0
      },
      "text/plain": [
       "Epoch: 14:   0%|          | 0/1 [00:00<?, ?it/s]"
      ]
     },
     "metadata": {},
     "output_type": "display_data"
    },
    {
     "name": "stdout",
     "output_type": "stream",
     "text": [
      "Batch : 0/1   Loss : 0.43897080421447754   Accuracy : 0.8574073910713196   F1 Score : 0.8559208767709168\n",
      "Validation F1 Score : 0.802158273381295\n",
      "#End of Epoch: 14  |  Train Loss: 0.439  |  Val Loss: 0.667  |  Train Acc: 85.74%  |  Val Acc: 76.74%\n"
     ]
    },
    {
     "data": {
      "application/vnd.jupyter.widget-view+json": {
       "model_id": "e28c0bb25ff54886a13fd13090052a56",
       "version_major": 2,
       "version_minor": 0
      },
      "text/plain": [
       "Epoch: 15:   0%|          | 0/1 [00:00<?, ?it/s]"
      ]
     },
     "metadata": {},
     "output_type": "display_data"
    },
    {
     "name": "stdout",
     "output_type": "stream",
     "text": [
      "Batch : 0/1   Loss : 0.43345171213150024   Accuracy : 0.8632274866104126   F1 Score : 0.8612825328682586\n",
      "Validation F1 Score : 0.8594539939332659\n",
      "#End of Epoch: 15  |  Train Loss: 0.433  |  Val Loss: 0.660  |  Train Acc: 86.32%  |  Val Acc: 85.31%\n"
     ]
    },
    {
     "data": {
      "application/vnd.jupyter.widget-view+json": {
       "model_id": "9365dc9af6e247f586ad8ed5e7018a79",
       "version_major": 2,
       "version_minor": 0
      },
      "text/plain": [
       "Epoch: 16:   0%|          | 0/1 [00:00<?, ?it/s]"
      ]
     },
     "metadata": {},
     "output_type": "display_data"
    },
    {
     "name": "stdout",
     "output_type": "stream",
     "text": [
      "Batch : 0/1   Loss : 0.41595497727394104   Accuracy : 0.8685185313224792   F1 Score : 0.8664337543671056\n",
      "Validation F1 Score : 0.87596048298573\n",
      "#End of Epoch: 16  |  Train Loss: 0.416  |  Val Loss: 0.651  |  Train Acc: 86.85%  |  Val Acc: 88.05%\n"
     ]
    },
    {
     "data": {
      "application/vnd.jupyter.widget-view+json": {
       "model_id": "972f58c948084ae5b7e53b868cfd80a0",
       "version_major": 2,
       "version_minor": 0
      },
      "text/plain": [
       "Epoch: 17:   0%|          | 0/1 [00:00<?, ?it/s]"
      ]
     },
     "metadata": {},
     "output_type": "display_data"
    },
    {
     "name": "stdout",
     "output_type": "stream",
     "text": [
      "Batch : 0/1   Loss : 0.4108215272426605   Accuracy : 0.870899498462677   F1 Score : 0.8687466379774071\n",
      "Validation F1 Score : 0.8813953488372094\n",
      "#End of Epoch: 17  |  Train Loss: 0.411  |  Val Loss: 0.641  |  Train Acc: 87.09%  |  Val Acc: 89.22%\n"
     ]
    },
    {
     "data": {
      "application/vnd.jupyter.widget-view+json": {
       "model_id": "01f732e87cca45f1ada388e0303c1f15",
       "version_major": 2,
       "version_minor": 0
      },
      "text/plain": [
       "Epoch: 18:   0%|          | 0/1 [00:00<?, ?it/s]"
      ]
     },
     "metadata": {},
     "output_type": "display_data"
    },
    {
     "name": "stdout",
     "output_type": "stream",
     "text": [
      "Batch : 0/1   Loss : 0.3917146921157837   Accuracy : 0.8817460536956787   F1 Score : 0.878499592280511\n",
      "Validation F1 Score : 0.855072463768116\n",
      "#End of Epoch: 18  |  Train Loss: 0.392  |  Val Loss: 0.631  |  Train Acc: 88.17%  |  Val Acc: 87.32%\n"
     ]
    },
    {
     "data": {
      "application/vnd.jupyter.widget-view+json": {
       "model_id": "10453b0236ff4926a3b5eb56edb3b3c3",
       "version_major": 2,
       "version_minor": 0
      },
      "text/plain": [
       "Epoch: 19:   0%|          | 0/1 [00:00<?, ?it/s]"
      ]
     },
     "metadata": {},
     "output_type": "display_data"
    },
    {
     "name": "stdout",
     "output_type": "stream",
     "text": [
      "Batch : 0/1   Loss : 0.3857544958591461   Accuracy : 0.8870370388031006   F1 Score : 0.8841248303934871\n",
      "Validation F1 Score : 0.838235294117647\n",
      "#End of Epoch: 19  |  Train Loss: 0.386  |  Val Loss: 0.619  |  Train Acc: 88.70%  |  Val Acc: 86.05%\n"
     ]
    },
    {
     "data": {
      "application/vnd.jupyter.widget-view+json": {
       "model_id": "8242e73e63734191bc5ed16069ce1a73",
       "version_major": 2,
       "version_minor": 0
      },
      "text/plain": [
       "Epoch: 20:   0%|          | 0/1 [00:00<?, ?it/s]"
      ]
     },
     "metadata": {},
     "output_type": "display_data"
    },
    {
     "name": "stdout",
     "output_type": "stream",
     "text": [
      "Batch : 0/1   Loss : 0.3802514672279358   Accuracy : 0.888359785079956   F1 Score : 0.8851388132825259\n",
      "Validation F1 Score : 0.8467153284671531\n",
      "#End of Epoch: 20  |  Train Loss: 0.380  |  Val Loss: 0.603  |  Train Acc: 88.84%  |  Val Acc: 86.68%\n"
     ]
    },
    {
     "data": {
      "application/vnd.jupyter.widget-view+json": {
       "model_id": "f7608c92f8804320839ae51aa525f040",
       "version_major": 2,
       "version_minor": 0
      },
      "text/plain": [
       "Epoch: 21:   0%|          | 0/1 [00:00<?, ?it/s]"
      ]
     },
     "metadata": {},
     "output_type": "display_data"
    },
    {
     "name": "stdout",
     "output_type": "stream",
     "text": [
      "Batch : 0/1   Loss : 0.37396636605262756   Accuracy : 0.8857142925262451   F1 Score : 0.8824809575625681\n",
      "Validation F1 Score : 0.856453558504222\n",
      "#End of Epoch: 21  |  Train Loss: 0.374  |  Val Loss: 0.585  |  Train Acc: 88.57%  |  Val Acc: 87.42%\n"
     ]
    },
    {
     "data": {
      "application/vnd.jupyter.widget-view+json": {
       "model_id": "e086ad895d854973aebe88e3fdd8e907",
       "version_major": 2,
       "version_minor": 0
      },
      "text/plain": [
       "Epoch: 22:   0%|          | 0/1 [00:00<?, ?it/s]"
      ]
     },
     "metadata": {},
     "output_type": "display_data"
    },
    {
     "name": "stdout",
     "output_type": "stream",
     "text": [
      "Batch : 0/1   Loss : 0.3677082657814026   Accuracy : 0.8896825313568115   F1 Score : 0.8856594461200986\n",
      "Validation F1 Score : 0.860576923076923\n",
      "#End of Epoch: 22  |  Train Loss: 0.368  |  Val Loss: 0.565  |  Train Acc: 88.97%  |  Val Acc: 87.74%\n"
     ]
    },
    {
     "data": {
      "application/vnd.jupyter.widget-view+json": {
       "model_id": "3901ccdd2c9a4ab6a5d8b7275b92447f",
       "version_major": 2,
       "version_minor": 0
      },
      "text/plain": [
       "Epoch: 23:   0%|          | 0/1 [00:00<?, ?it/s]"
      ]
     },
     "metadata": {},
     "output_type": "display_data"
    },
    {
     "name": "stdout",
     "output_type": "stream",
     "text": [
      "Batch : 0/1   Loss : 0.35590291023254395   Accuracy : 0.8917989134788513   F1 Score : 0.8879144971224994\n",
      "Validation F1 Score : 0.868421052631579\n",
      "#End of Epoch: 23  |  Train Loss: 0.356  |  Val Loss: 0.544  |  Train Acc: 89.18%  |  Val Acc: 88.37%\n"
     ]
    },
    {
     "data": {
      "application/vnd.jupyter.widget-view+json": {
       "model_id": "04a6d73593394560b8cce8d029271d40",
       "version_major": 2,
       "version_minor": 0
      },
      "text/plain": [
       "Epoch: 24:   0%|          | 0/1 [00:00<?, ?it/s]"
      ]
     },
     "metadata": {},
     "output_type": "display_data"
    },
    {
     "name": "stdout",
     "output_type": "stream",
     "text": [
      "Batch : 0/1   Loss : 0.35387736558914185   Accuracy : 0.8941798806190491   F1 Score : 0.8893193137797455\n",
      "Validation F1 Score : 0.8657074340527577\n",
      "#End of Epoch: 24  |  Train Loss: 0.354  |  Val Loss: 0.524  |  Train Acc: 89.42%  |  Val Acc: 88.16%\n"
     ]
    },
    {
     "data": {
      "application/vnd.jupyter.widget-view+json": {
       "model_id": "16d22a4c7ab4424f957597a548a92fb2",
       "version_major": 2,
       "version_minor": 0
      },
      "text/plain": [
       "Epoch: 25:   0%|          | 0/1 [00:00<?, ?it/s]"
      ]
     },
     "metadata": {},
     "output_type": "display_data"
    },
    {
     "name": "stdout",
     "output_type": "stream",
     "text": [
      "Batch : 0/1   Loss : 0.34288182854652405   Accuracy : 0.8997354507446289   F1 Score : 0.8952749378281293\n",
      "Validation F1 Score : 0.8616125150421179\n",
      "#End of Epoch: 25  |  Train Loss: 0.343  |  Val Loss: 0.507  |  Train Acc: 89.97%  |  Val Acc: 87.84%\n"
     ]
    },
    {
     "data": {
      "application/vnd.jupyter.widget-view+json": {
       "model_id": "1a611efa3a0b44929f1f06a8e0ddb5db",
       "version_major": 2,
       "version_minor": 0
      },
      "text/plain": [
       "Epoch: 26:   0%|          | 0/1 [00:00<?, ?it/s]"
      ]
     },
     "metadata": {},
     "output_type": "display_data"
    },
    {
     "name": "stdout",
     "output_type": "stream",
     "text": [
      "Batch : 0/1   Loss : 0.3407646417617798   Accuracy : 0.9010581970214844   F1 Score : 0.8951205832865956\n",
      "Validation F1 Score : 0.8629807692307693\n",
      "#End of Epoch: 26  |  Train Loss: 0.341  |  Val Loss: 0.487  |  Train Acc: 90.11%  |  Val Acc: 87.95%\n"
     ]
    },
    {
     "data": {
      "application/vnd.jupyter.widget-view+json": {
       "model_id": "3d9b1e665e3d48c09deedd60328692fc",
       "version_major": 2,
       "version_minor": 0
      },
      "text/plain": [
       "Epoch: 27:   0%|          | 0/1 [00:00<?, ?it/s]"
      ]
     },
     "metadata": {},
     "output_type": "display_data"
    },
    {
     "name": "stdout",
     "output_type": "stream",
     "text": [
      "Batch : 0/1   Loss : 0.3330158591270447   Accuracy : 0.9052910208702087   F1 Score : 0.9002229654403568\n",
      "Validation F1 Score : 0.8643457382953181\n",
      "#End of Epoch: 27  |  Train Loss: 0.333  |  Val Loss: 0.463  |  Train Acc: 90.53%  |  Val Acc: 88.05%\n"
     ]
    },
    {
     "data": {
      "application/vnd.jupyter.widget-view+json": {
       "model_id": "b89ccc9deff0427c890fd9a7803d34d2",
       "version_major": 2,
       "version_minor": 0
      },
      "text/plain": [
       "Epoch: 28:   0%|          | 0/1 [00:00<?, ?it/s]"
      ]
     },
     "metadata": {},
     "output_type": "display_data"
    },
    {
     "name": "stdout",
     "output_type": "stream",
     "text": [
      "Batch : 0/1   Loss : 0.32060301303863525   Accuracy : 0.9116402268409729   F1 Score : 0.9067560022333891\n",
      "Validation F1 Score : 0.8847058823529411\n",
      "#End of Epoch: 28  |  Train Loss: 0.321  |  Val Loss: 0.435  |  Train Acc: 91.16%  |  Val Acc: 89.64%\n"
     ]
    },
    {
     "data": {
      "application/vnd.jupyter.widget-view+json": {
       "model_id": "a6ea6593d41d4c11ace2b5709c9eb6a4",
       "version_major": 2,
       "version_minor": 0
      },
      "text/plain": [
       "Epoch: 29:   0%|          | 0/1 [00:00<?, ?it/s]"
      ]
     },
     "metadata": {},
     "output_type": "display_data"
    },
    {
     "name": "stdout",
     "output_type": "stream",
     "text": [
      "Batch : 0/1   Loss : 0.3191574811935425   Accuracy : 0.9105820059776306   F1 Score : 0.9059543683917641\n",
      "Validation F1 Score : 0.8966318234610918\n",
      "#End of Epoch: 29  |  Train Loss: 0.319  |  Val Loss: 0.406  |  Train Acc: 91.06%  |  Val Acc: 90.59%\n"
     ]
    },
    {
     "data": {
      "application/vnd.jupyter.widget-view+json": {
       "model_id": "275a1cf905fc4ed7a6ce3cdf0b77b5be",
       "version_major": 2,
       "version_minor": 0
      },
      "text/plain": [
       "Epoch: 30:   0%|          | 0/1 [00:00<?, ?it/s]"
      ]
     },
     "metadata": {},
     "output_type": "display_data"
    },
    {
     "name": "stdout",
     "output_type": "stream",
     "text": [
      "Batch : 0/1   Loss : 0.3191307783126831   Accuracy : 0.9079365134239197   F1 Score : 0.9035476718403548\n",
      "Validation F1 Score : 0.904707233065442\n",
      "#End of Epoch: 30  |  Train Loss: 0.319  |  Val Loss: 0.381  |  Train Acc: 90.79%  |  Val Acc: 91.23%\n"
     ]
    },
    {
     "data": {
      "application/vnd.jupyter.widget-view+json": {
       "model_id": "3a1345e2fa144521aaeb3f642a9c2169",
       "version_major": 2,
       "version_minor": 0
      },
      "text/plain": [
       "Epoch: 31:   0%|          | 0/1 [00:00<?, ?it/s]"
      ]
     },
     "metadata": {},
     "output_type": "display_data"
    },
    {
     "name": "stdout",
     "output_type": "stream",
     "text": [
      "Batch : 0/1   Loss : 0.31109967827796936   Accuracy : 0.9113756418228149   F1 Score : 0.9078911190541655\n",
      "Validation F1 Score : 0.9059633027522935\n",
      "#End of Epoch: 31  |  Train Loss: 0.311  |  Val Loss: 0.364  |  Train Acc: 91.14%  |  Val Acc: 91.33%\n"
     ]
    },
    {
     "data": {
      "application/vnd.jupyter.widget-view+json": {
       "model_id": "f3d00040f5424bb09bbac8c50c788b91",
       "version_major": 2,
       "version_minor": 0
      },
      "text/plain": [
       "Epoch: 32:   0%|          | 0/1 [00:00<?, ?it/s]"
      ]
     },
     "metadata": {},
     "output_type": "display_data"
    },
    {
     "name": "stdout",
     "output_type": "stream",
     "text": [
      "Batch : 0/1   Loss : 0.30739060044288635   Accuracy : 0.9084656238555908   F1 Score : 0.9051535087719297\n",
      "Validation F1 Score : 0.9059633027522935\n",
      "#End of Epoch: 32  |  Train Loss: 0.307  |  Val Loss: 0.351  |  Train Acc: 90.85%  |  Val Acc: 91.33%\n"
     ]
    },
    {
     "data": {
      "application/vnd.jupyter.widget-view+json": {
       "model_id": "7769bc9b22694b06b5fb20a710bf4ab3",
       "version_major": 2,
       "version_minor": 0
      },
      "text/plain": [
       "Epoch: 33:   0%|          | 0/1 [00:00<?, ?it/s]"
      ]
     },
     "metadata": {},
     "output_type": "display_data"
    },
    {
     "name": "stdout",
     "output_type": "stream",
     "text": [
      "Batch : 0/1   Loss : 0.297941654920578   Accuracy : 0.9132274985313416   F1 Score : 0.9102353585112205\n",
      "Validation F1 Score : 0.904707233065442\n",
      "#End of Epoch: 33  |  Train Loss: 0.298  |  Val Loss: 0.340  |  Train Acc: 91.32%  |  Val Acc: 91.23%\n"
     ]
    },
    {
     "data": {
      "application/vnd.jupyter.widget-view+json": {
       "model_id": "ea95b8ffe1104e668e06b22b4f2e4478",
       "version_major": 2,
       "version_minor": 0
      },
      "text/plain": [
       "Epoch: 34:   0%|          | 0/1 [00:00<?, ?it/s]"
      ]
     },
     "metadata": {},
     "output_type": "display_data"
    },
    {
     "name": "stdout",
     "output_type": "stream",
     "text": [
      "Batch : 0/1   Loss : 0.29486173391342163   Accuracy : 0.914814829826355   F1 Score : 0.9120699071545604\n",
      "Validation F1 Score : 0.903448275862069\n",
      "#End of Epoch: 34  |  Train Loss: 0.295  |  Val Loss: 0.329  |  Train Acc: 91.48%  |  Val Acc: 91.12%\n"
     ]
    },
    {
     "data": {
      "application/vnd.jupyter.widget-view+json": {
       "model_id": "d3268dd4483f4347956744c3ead0d164",
       "version_major": 2,
       "version_minor": 0
      },
      "text/plain": [
       "Epoch: 35:   0%|          | 0/1 [00:00<?, ?it/s]"
      ]
     },
     "metadata": {},
     "output_type": "display_data"
    },
    {
     "name": "stdout",
     "output_type": "stream",
     "text": [
      "Batch : 0/1   Loss : 0.2848323583602905   Accuracy : 0.920634925365448   F1 Score : 0.9180327868852458\n",
      "Validation F1 Score : 0.9036697247706421\n",
      "#End of Epoch: 35  |  Train Loss: 0.285  |  Val Loss: 0.315  |  Train Acc: 92.06%  |  Val Acc: 91.12%\n"
     ]
    },
    {
     "data": {
      "application/vnd.jupyter.widget-view+json": {
       "model_id": "19e79b90435b47a194a5b5c064dd94e8",
       "version_major": 2,
       "version_minor": 0
      },
      "text/plain": [
       "Epoch: 36:   0%|          | 0/1 [00:00<?, ?it/s]"
      ]
     },
     "metadata": {},
     "output_type": "display_data"
    },
    {
     "name": "stdout",
     "output_type": "stream",
     "text": [
      "Batch : 0/1   Loss : 0.2839939296245575   Accuracy : 0.9177248477935791   F1 Score : 0.9155579690469726\n",
      "Validation F1 Score : 0.9066059225512528\n",
      "#End of Epoch: 36  |  Train Loss: 0.284  |  Val Loss: 0.296  |  Train Acc: 91.77%  |  Val Acc: 91.33%\n"
     ]
    },
    {
     "data": {
      "application/vnd.jupyter.widget-view+json": {
       "model_id": "8b3017463d2d47999a2f8bc30c953807",
       "version_major": 2,
       "version_minor": 0
      },
      "text/plain": [
       "Epoch: 37:   0%|          | 0/1 [00:00<?, ?it/s]"
      ]
     },
     "metadata": {},
     "output_type": "display_data"
    },
    {
     "name": "stdout",
     "output_type": "stream",
     "text": [
      "Batch : 0/1   Loss : 0.27629342675209045   Accuracy : 0.9261904954910278   F1 Score : 0.9242876526458615\n",
      "Validation F1 Score : 0.9090909090909092\n",
      "#End of Epoch: 37  |  Train Loss: 0.276  |  Val Loss: 0.282  |  Train Acc: 92.62%  |  Val Acc: 91.54%\n"
     ]
    },
    {
     "data": {
      "application/vnd.jupyter.widget-view+json": {
       "model_id": "2e8fd4261435471bafaeb013e9e22816",
       "version_major": 2,
       "version_minor": 0
      },
      "text/plain": [
       "Epoch: 38:   0%|          | 0/1 [00:00<?, ?it/s]"
      ]
     },
     "metadata": {},
     "output_type": "display_data"
    },
    {
     "name": "stdout",
     "output_type": "stream",
     "text": [
      "Batch : 0/1   Loss : 0.2697165012359619   Accuracy : 0.9275132417678833   F1 Score : 0.926145552560647\n",
      "Validation F1 Score : 0.9152542372881356\n",
      "#End of Epoch: 38  |  Train Loss: 0.270  |  Val Loss: 0.265  |  Train Acc: 92.75%  |  Val Acc: 92.07%\n"
     ]
    },
    {
     "data": {
      "application/vnd.jupyter.widget-view+json": {
       "model_id": "829b55afe96542dc9b606b172a4074d0",
       "version_major": 2,
       "version_minor": 0
      },
      "text/plain": [
       "Epoch: 39:   0%|          | 0/1 [00:00<?, ?it/s]"
      ]
     },
     "metadata": {},
     "output_type": "display_data"
    },
    {
     "name": "stdout",
     "output_type": "stream",
     "text": [
      "Batch : 0/1   Loss : 0.2639829218387604   Accuracy : 0.9306878447532654   F1 Score : 0.9294940796555435\n",
      "Validation F1 Score : 0.91156462585034\n",
      "#End of Epoch: 39  |  Train Loss: 0.264  |  Val Loss: 0.259  |  Train Acc: 93.07%  |  Val Acc: 91.75%\n"
     ]
    },
    {
     "data": {
      "application/vnd.jupyter.widget-view+json": {
       "model_id": "06ca9edb021f4f10a65046f5e8400f26",
       "version_major": 2,
       "version_minor": 0
      },
      "text/plain": [
       "Epoch: 40:   0%|          | 0/1 [00:00<?, ?it/s]"
      ]
     },
     "metadata": {},
     "output_type": "display_data"
    },
    {
     "name": "stdout",
     "output_type": "stream",
     "text": [
      "Batch : 0/1   Loss : 0.2594015896320343   Accuracy : 0.9333333373069763   F1 Score : 0.9318181818181819\n",
      "Validation F1 Score : 0.9066059225512528\n",
      "#End of Epoch: 40  |  Train Loss: 0.259  |  Val Loss: 0.264  |  Train Acc: 93.33%  |  Val Acc: 91.33%\n"
     ]
    },
    {
     "data": {
      "application/vnd.jupyter.widget-view+json": {
       "model_id": "4bae41a191b54780946b8a4f6a5a0a1c",
       "version_major": 2,
       "version_minor": 0
      },
      "text/plain": [
       "Epoch: 41:   0%|          | 0/1 [00:00<?, ?it/s]"
      ]
     },
     "metadata": {},
     "output_type": "display_data"
    },
    {
     "name": "stdout",
     "output_type": "stream",
     "text": [
      "Batch : 0/1   Loss : 0.2526538074016571   Accuracy : 0.9343915581703186   F1 Score : 0.9324250681198909\n",
      "Validation F1 Score : 0.9168539325842696\n",
      "#End of Epoch: 41  |  Train Loss: 0.253  |  Val Loss: 0.242  |  Train Acc: 93.44%  |  Val Acc: 92.18%\n"
     ]
    },
    {
     "data": {
      "application/vnd.jupyter.widget-view+json": {
       "model_id": "83ceb7b01d824fe498b42abf19136b2c",
       "version_major": 2,
       "version_minor": 0
      },
      "text/plain": [
       "Epoch: 42:   0%|          | 0/1 [00:00<?, ?it/s]"
      ]
     },
     "metadata": {},
     "output_type": "display_data"
    },
    {
     "name": "stdout",
     "output_type": "stream",
     "text": [
      "Batch : 0/1   Loss : 0.24568502604961395   Accuracy : 0.9420635104179382   F1 Score : 0.9410815173527038\n",
      "Validation F1 Score : 0.928335170893054\n",
      "#End of Epoch: 42  |  Train Loss: 0.246  |  Val Loss: 0.230  |  Train Acc: 94.21%  |  Val Acc: 93.13%\n"
     ]
    },
    {
     "data": {
      "application/vnd.jupyter.widget-view+json": {
       "model_id": "f2aee6a90ca94636a408ff3939660cad",
       "version_major": 2,
       "version_minor": 0
      },
      "text/plain": [
       "Epoch: 43:   0%|          | 0/1 [00:00<?, ?it/s]"
      ]
     },
     "metadata": {},
     "output_type": "display_data"
    },
    {
     "name": "stdout",
     "output_type": "stream",
     "text": [
      "Batch : 0/1   Loss : 0.24395652115345   Accuracy : 0.9351851940155029   F1 Score : 0.9344744584113399\n",
      "Validation F1 Score : 0.9168539325842696\n",
      "#End of Epoch: 43  |  Train Loss: 0.244  |  Val Loss: 0.238  |  Train Acc: 93.52%  |  Val Acc: 92.18%\n"
     ]
    },
    {
     "data": {
      "application/vnd.jupyter.widget-view+json": {
       "model_id": "fb0d969add7f4175a4bb93a3829ca43c",
       "version_major": 2,
       "version_minor": 0
      },
      "text/plain": [
       "Epoch: 44:   0%|          | 0/1 [00:00<?, ?it/s]"
      ]
     },
     "metadata": {},
     "output_type": "display_data"
    },
    {
     "name": "stdout",
     "output_type": "stream",
     "text": [
      "Batch : 0/1   Loss : 0.2350471466779709   Accuracy : 0.9436507821083069   F1 Score : 0.9424479870305323\n",
      "Validation F1 Score : 0.9080590238365495\n",
      "#End of Epoch: 44  |  Train Loss: 0.235  |  Val Loss: 0.251  |  Train Acc: 94.37%  |  Val Acc: 91.44%\n"
     ]
    },
    {
     "data": {
      "application/vnd.jupyter.widget-view+json": {
       "model_id": "20be8230c60d4f18b9bb5ec723334768",
       "version_major": 2,
       "version_minor": 0
      },
      "text/plain": [
       "Epoch: 45:   0%|          | 0/1 [00:00<?, ?it/s]"
      ]
     },
     "metadata": {},
     "output_type": "display_data"
    },
    {
     "name": "stdout",
     "output_type": "stream",
     "text": [
      "Batch : 0/1   Loss : 0.2334442287683487   Accuracy : 0.9460317492485046   F1 Score : 0.9445048966267682\n",
      "Validation F1 Score : 0.9317180616740087\n",
      "#End of Epoch: 45  |  Train Loss: 0.233  |  Val Loss: 0.227  |  Train Acc: 94.60%  |  Val Acc: 93.45%\n"
     ]
    },
    {
     "data": {
      "application/vnd.jupyter.widget-view+json": {
       "model_id": "db2fecd64e894ef4b207821a4ecb12ea",
       "version_major": 2,
       "version_minor": 0
      },
      "text/plain": [
       "Epoch: 46:   0%|          | 0/1 [00:00<?, ?it/s]"
      ]
     },
     "metadata": {},
     "output_type": "display_data"
    },
    {
     "name": "stdout",
     "output_type": "stream",
     "text": [
      "Batch : 0/1   Loss : 0.22963060438632965   Accuracy : 0.944179892539978   F1 Score : 0.9437483337776593\n",
      "Validation F1 Score : 0.9287257019438444\n",
      "#End of Epoch: 46  |  Train Loss: 0.230  |  Val Loss: 0.230  |  Train Acc: 94.42%  |  Val Acc: 93.02%\n"
     ]
    },
    {
     "data": {
      "application/vnd.jupyter.widget-view+json": {
       "model_id": "2f92ed05b7ff414bb1e7cc4c0b7817fa",
       "version_major": 2,
       "version_minor": 0
      },
      "text/plain": [
       "Epoch: 47:   0%|          | 0/1 [00:00<?, ?it/s]"
      ]
     },
     "metadata": {},
     "output_type": "display_data"
    },
    {
     "name": "stdout",
     "output_type": "stream",
     "text": [
      "Batch : 0/1   Loss : 0.22536130249500275   Accuracy : 0.941005289554596   F1 Score : 0.9408644921771414\n",
      "Validation F1 Score : 0.9258028792912514\n",
      "#End of Epoch: 47  |  Train Loss: 0.225  |  Val Loss: 0.228  |  Train Acc: 94.10%  |  Val Acc: 92.92%\n"
     ]
    },
    {
     "data": {
      "application/vnd.jupyter.widget-view+json": {
       "model_id": "3c3298bc4de54e81acf6df624218730d",
       "version_major": 2,
       "version_minor": 0
      },
      "text/plain": [
       "Epoch: 48:   0%|          | 0/1 [00:00<?, ?it/s]"
      ]
     },
     "metadata": {},
     "output_type": "display_data"
    },
    {
     "name": "stdout",
     "output_type": "stream",
     "text": [
      "Batch : 0/1   Loss : 0.2216123640537262   Accuracy : 0.9460317492485046   F1 Score : 0.9453961456102784\n",
      "Validation F1 Score : 0.9095022624434389\n",
      "#End of Epoch: 48  |  Train Loss: 0.222  |  Val Loss: 0.246  |  Train Acc: 94.60%  |  Val Acc: 91.54%\n"
     ]
    },
    {
     "data": {
      "application/vnd.jupyter.widget-view+json": {
       "model_id": "2e7b378d02cf448298d2bd687767c707",
       "version_major": 2,
       "version_minor": 0
      },
      "text/plain": [
       "Epoch: 49:   0%|          | 0/1 [00:00<?, ?it/s]"
      ]
     },
     "metadata": {},
     "output_type": "display_data"
    },
    {
     "name": "stdout",
     "output_type": "stream",
     "text": [
      "Batch : 0/1   Loss : 0.21946541965007782   Accuracy : 0.946825385093689   F1 Score : 0.9454545454545455\n",
      "Validation F1 Score : 0.9211986681465038\n",
      "#End of Epoch: 49  |  Train Loss: 0.219  |  Val Loss: 0.229  |  Train Acc: 94.68%  |  Val Acc: 92.49%\n"
     ]
    },
    {
     "data": {
      "application/vnd.jupyter.widget-view+json": {
       "model_id": "4a12e812d2494e53b431e702c4a34e9e",
       "version_major": 2,
       "version_minor": 0
      },
      "text/plain": [
       "Epoch: 50:   0%|          | 0/1 [00:00<?, ?it/s]"
      ]
     },
     "metadata": {},
     "output_type": "display_data"
    },
    {
     "name": "stdout",
     "output_type": "stream",
     "text": [
      "Batch : 0/1   Loss : 0.20439684391021729   Accuracy : 0.9547619223594666   F1 Score : 0.9542168674698795\n",
      "Validation F1 Score : 0.9282608695652174\n",
      "#End of Epoch: 50  |  Train Loss: 0.204  |  Val Loss: 0.227  |  Train Acc: 95.48%  |  Val Acc: 93.02%\n"
     ]
    },
    {
     "data": {
      "text/plain": [
       "Network(\n",
       "  (embedding): Embedding(11270, 200)\n",
       "  (lstm): LSTM(200, 128, num_layers=2, batch_first=True, bidirectional=True)\n",
       "  (layer_1): Linear(in_features=256, out_features=128, bias=True)\n",
       "  (layer_2): Linear(in_features=128, out_features=64, bias=True)\n",
       "  (layer_3): Linear(in_features=64, out_features=32, bias=True)\n",
       "  (layer_4): Linear(in_features=32, out_features=1, bias=True)\n",
       "  (relu): ReLU()\n",
       "  (dropout): Dropout(p=0.4, inplace=False)\n",
       "  (batchnorm1): BatchNorm1d(128, eps=1e-05, momentum=0.1, affine=True, track_running_stats=True)\n",
       "  (batchnorm2): BatchNorm1d(64, eps=1e-05, momentum=0.1, affine=True, track_running_stats=True)\n",
       "  (batchnorm3): BatchNorm1d(32, eps=1e-05, momentum=0.1, affine=True, track_running_stats=True)\n",
       ")"
      ]
     },
     "execution_count": 6,
     "metadata": {},
     "output_type": "execute_result"
    }
   ],
   "source": [
    "model = Training().Train(X_train, X_val, y_train, y_val, train_config)  # train the model and save the checkpoints according to train_configs\n",
    "model.eval()"
   ]
  },
  {
   "cell_type": "code",
   "execution_count": 7,
   "id": "0d0325f0",
   "metadata": {},
   "outputs": [
    {
     "name": "stdout",
     "output_type": "stream",
     "text": [
      "{'label': 'positive', 'negative': 0.48120540380477905, 'positive': 0.518794596195221}\n"
     ]
    }
   ],
   "source": [
    "text = \"This is a Good day\"\n",
    "print(predict(text))  # test"
   ]
  }
 ],
 "metadata": {
  "kernelspec": {
   "display_name": "Python 3",
   "language": "python",
   "name": "python3"
  },
  "language_info": {
   "codemirror_mode": {
    "name": "ipython",
    "version": 3
   },
   "file_extension": ".py",
   "mimetype": "text/x-python",
   "name": "python",
   "nbconvert_exporter": "python",
   "pygments_lexer": "ipython3",
   "version": "3.8.8"
  }
 },
 "nbformat": 4,
 "nbformat_minor": 5
}
